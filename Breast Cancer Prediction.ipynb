{
 "cells": [
  {
   "cell_type": "markdown",
   "metadata": {},
   "source": [
    "## Breast Cancer Detection"
   ]
  },
  {
   "cell_type": "code",
   "execution_count": null,
   "metadata": {},
   "outputs": [],
   "source": [
    "import pandas as pd\n",
    "import numpy as np\n",
    "import matplotlib.pyplot as plt\n",
    "import seaborn as sns\n",
    "from sklearn.model_selection import train_test_split, KFold\n",
    "from sklearn.ensemble import RandomForestClassifier\n",
    "from sklearn.linear_model import LogisticRegression\n",
    "from sklearn.metrics import mean_absolute_error, accuracy_score, confusion_matrix\n",
    "df = pd.read_csv(\"C:/Users//KIIT//Downloads//archive (5)//breast-cancer-wisconsin.data\")\n",
    "df.columns = ['id_number','clump_thickness','cell_size','cell_shape','marginal_adhesion','single_cell_ep_size','bare_nuclei','bland_chromatin',\n",
    "              'normal_nuclei','mitoses','class']\n",
    "df = df.set_index('id_number')"
   ]
  },
  {
   "cell_type": "code",
   "execution_count": 5,
   "metadata": {},
   "outputs": [
    {
     "data": {
      "text/html": [
       "<div>\n",
       "<style scoped>\n",
       "    .dataframe tbody tr th:only-of-type {\n",
       "        vertical-align: middle;\n",
       "    }\n",
       "\n",
       "    .dataframe tbody tr th {\n",
       "        vertical-align: top;\n",
       "    }\n",
       "\n",
       "    .dataframe thead th {\n",
       "        text-align: right;\n",
       "    }\n",
       "</style>\n",
       "<table border=\"1\" class=\"dataframe\">\n",
       "  <thead>\n",
       "    <tr style=\"text-align: right;\">\n",
       "      <th></th>\n",
       "      <th>clump_thickness</th>\n",
       "      <th>cell_size</th>\n",
       "      <th>cell_shape</th>\n",
       "      <th>marginal_adhesion</th>\n",
       "      <th>single_cell_ep_size</th>\n",
       "      <th>bare_nuclei</th>\n",
       "      <th>bland_chromatin</th>\n",
       "      <th>normal_nuclei</th>\n",
       "      <th>mitoses</th>\n",
       "      <th>class</th>\n",
       "    </tr>\n",
       "    <tr>\n",
       "      <th>id_number</th>\n",
       "      <th></th>\n",
       "      <th></th>\n",
       "      <th></th>\n",
       "      <th></th>\n",
       "      <th></th>\n",
       "      <th></th>\n",
       "      <th></th>\n",
       "      <th></th>\n",
       "      <th></th>\n",
       "      <th></th>\n",
       "    </tr>\n",
       "  </thead>\n",
       "  <tbody>\n",
       "    <tr>\n",
       "      <th>1002945</th>\n",
       "      <td>5</td>\n",
       "      <td>4</td>\n",
       "      <td>4</td>\n",
       "      <td>5</td>\n",
       "      <td>7</td>\n",
       "      <td>10</td>\n",
       "      <td>3</td>\n",
       "      <td>2</td>\n",
       "      <td>1</td>\n",
       "      <td>2</td>\n",
       "    </tr>\n",
       "    <tr>\n",
       "      <th>1015425</th>\n",
       "      <td>3</td>\n",
       "      <td>1</td>\n",
       "      <td>1</td>\n",
       "      <td>1</td>\n",
       "      <td>2</td>\n",
       "      <td>2</td>\n",
       "      <td>3</td>\n",
       "      <td>1</td>\n",
       "      <td>1</td>\n",
       "      <td>2</td>\n",
       "    </tr>\n",
       "    <tr>\n",
       "      <th>1016277</th>\n",
       "      <td>6</td>\n",
       "      <td>8</td>\n",
       "      <td>8</td>\n",
       "      <td>1</td>\n",
       "      <td>3</td>\n",
       "      <td>4</td>\n",
       "      <td>3</td>\n",
       "      <td>7</td>\n",
       "      <td>1</td>\n",
       "      <td>2</td>\n",
       "    </tr>\n",
       "    <tr>\n",
       "      <th>1017023</th>\n",
       "      <td>4</td>\n",
       "      <td>1</td>\n",
       "      <td>1</td>\n",
       "      <td>3</td>\n",
       "      <td>2</td>\n",
       "      <td>1</td>\n",
       "      <td>3</td>\n",
       "      <td>1</td>\n",
       "      <td>1</td>\n",
       "      <td>2</td>\n",
       "    </tr>\n",
       "    <tr>\n",
       "      <th>1017122</th>\n",
       "      <td>8</td>\n",
       "      <td>10</td>\n",
       "      <td>10</td>\n",
       "      <td>8</td>\n",
       "      <td>7</td>\n",
       "      <td>10</td>\n",
       "      <td>9</td>\n",
       "      <td>7</td>\n",
       "      <td>1</td>\n",
       "      <td>4</td>\n",
       "    </tr>\n",
       "  </tbody>\n",
       "</table>\n",
       "</div>"
      ],
      "text/plain": [
       "           clump_thickness  cell_size  cell_shape  marginal_adhesion  \\\n",
       "id_number                                                              \n",
       "1002945                  5          4           4                  5   \n",
       "1015425                  3          1           1                  1   \n",
       "1016277                  6          8           8                  1   \n",
       "1017023                  4          1           1                  3   \n",
       "1017122                  8         10          10                  8   \n",
       "\n",
       "           single_cell_ep_size bare_nuclei  bland_chromatin  normal_nuclei  \\\n",
       "id_number                                                                    \n",
       "1002945                      7          10                3              2   \n",
       "1015425                      2           2                3              1   \n",
       "1016277                      3           4                3              7   \n",
       "1017023                      2           1                3              1   \n",
       "1017122                      7          10                9              7   \n",
       "\n",
       "           mitoses  class  \n",
       "id_number                  \n",
       "1002945          1      2  \n",
       "1015425          1      2  \n",
       "1016277          1      2  \n",
       "1017023          1      2  \n",
       "1017122          1      4  "
      ]
     },
     "execution_count": 5,
     "metadata": {},
     "output_type": "execute_result"
    }
   ],
   "source": [
    "df.head()"
   ]
  },
  {
   "cell_type": "code",
   "execution_count": 6,
   "metadata": {},
   "outputs": [
    {
     "data": {
      "text/html": [
       "<div>\n",
       "<style scoped>\n",
       "    .dataframe tbody tr th:only-of-type {\n",
       "        vertical-align: middle;\n",
       "    }\n",
       "\n",
       "    .dataframe tbody tr th {\n",
       "        vertical-align: top;\n",
       "    }\n",
       "\n",
       "    .dataframe thead th {\n",
       "        text-align: right;\n",
       "    }\n",
       "</style>\n",
       "<table border=\"1\" class=\"dataframe\">\n",
       "  <thead>\n",
       "    <tr style=\"text-align: right;\">\n",
       "      <th></th>\n",
       "      <th>clump_thickness</th>\n",
       "      <th>cell_size</th>\n",
       "      <th>cell_shape</th>\n",
       "      <th>marginal_adhesion</th>\n",
       "      <th>single_cell_ep_size</th>\n",
       "      <th>bare_nuclei</th>\n",
       "      <th>bland_chromatin</th>\n",
       "      <th>normal_nuclei</th>\n",
       "      <th>mitoses</th>\n",
       "      <th>class</th>\n",
       "    </tr>\n",
       "    <tr>\n",
       "      <th>id_number</th>\n",
       "      <th></th>\n",
       "      <th></th>\n",
       "      <th></th>\n",
       "      <th></th>\n",
       "      <th></th>\n",
       "      <th></th>\n",
       "      <th></th>\n",
       "      <th></th>\n",
       "      <th></th>\n",
       "      <th></th>\n",
       "    </tr>\n",
       "  </thead>\n",
       "  <tbody>\n",
       "    <tr>\n",
       "      <th>776715</th>\n",
       "      <td>3</td>\n",
       "      <td>1</td>\n",
       "      <td>1</td>\n",
       "      <td>1</td>\n",
       "      <td>3</td>\n",
       "      <td>2</td>\n",
       "      <td>1</td>\n",
       "      <td>1</td>\n",
       "      <td>1</td>\n",
       "      <td>2</td>\n",
       "    </tr>\n",
       "    <tr>\n",
       "      <th>841769</th>\n",
       "      <td>2</td>\n",
       "      <td>1</td>\n",
       "      <td>1</td>\n",
       "      <td>1</td>\n",
       "      <td>2</td>\n",
       "      <td>1</td>\n",
       "      <td>1</td>\n",
       "      <td>1</td>\n",
       "      <td>1</td>\n",
       "      <td>2</td>\n",
       "    </tr>\n",
       "    <tr>\n",
       "      <th>888820</th>\n",
       "      <td>5</td>\n",
       "      <td>10</td>\n",
       "      <td>10</td>\n",
       "      <td>3</td>\n",
       "      <td>7</td>\n",
       "      <td>3</td>\n",
       "      <td>8</td>\n",
       "      <td>10</td>\n",
       "      <td>2</td>\n",
       "      <td>4</td>\n",
       "    </tr>\n",
       "    <tr>\n",
       "      <th>897471</th>\n",
       "      <td>4</td>\n",
       "      <td>8</td>\n",
       "      <td>6</td>\n",
       "      <td>4</td>\n",
       "      <td>3</td>\n",
       "      <td>4</td>\n",
       "      <td>10</td>\n",
       "      <td>6</td>\n",
       "      <td>1</td>\n",
       "      <td>4</td>\n",
       "    </tr>\n",
       "    <tr>\n",
       "      <th>897471</th>\n",
       "      <td>4</td>\n",
       "      <td>8</td>\n",
       "      <td>8</td>\n",
       "      <td>5</td>\n",
       "      <td>4</td>\n",
       "      <td>5</td>\n",
       "      <td>10</td>\n",
       "      <td>4</td>\n",
       "      <td>1</td>\n",
       "      <td>4</td>\n",
       "    </tr>\n",
       "  </tbody>\n",
       "</table>\n",
       "</div>"
      ],
      "text/plain": [
       "           clump_thickness  cell_size  cell_shape  marginal_adhesion  \\\n",
       "id_number                                                              \n",
       "776715                   3          1           1                  1   \n",
       "841769                   2          1           1                  1   \n",
       "888820                   5         10          10                  3   \n",
       "897471                   4          8           6                  4   \n",
       "897471                   4          8           8                  5   \n",
       "\n",
       "           single_cell_ep_size bare_nuclei  bland_chromatin  normal_nuclei  \\\n",
       "id_number                                                                    \n",
       "776715                       3           2                1              1   \n",
       "841769                       2           1                1              1   \n",
       "888820                       7           3                8             10   \n",
       "897471                       3           4               10              6   \n",
       "897471                       4           5               10              4   \n",
       "\n",
       "           mitoses  class  \n",
       "id_number                  \n",
       "776715           1      2  \n",
       "841769           1      2  \n",
       "888820           2      4  \n",
       "897471           1      4  \n",
       "897471           1      4  "
      ]
     },
     "execution_count": 6,
     "metadata": {},
     "output_type": "execute_result"
    }
   ],
   "source": [
    "df.tail()"
   ]
  },
  {
   "cell_type": "code",
   "execution_count": 7,
   "metadata": {},
   "outputs": [
    {
     "data": {
      "text/plain": [
       "(698, 10)"
      ]
     },
     "execution_count": 7,
     "metadata": {},
     "output_type": "execute_result"
    }
   ],
   "source": [
    "df.shape"
   ]
  },
  {
   "cell_type": "code",
   "execution_count": 8,
   "metadata": {},
   "outputs": [
    {
     "name": "stdout",
     "output_type": "stream",
     "text": [
      "<class 'pandas.core.frame.DataFrame'>\n",
      "Index: 698 entries, 1002945 to 897471\n",
      "Data columns (total 10 columns):\n",
      " #   Column               Non-Null Count  Dtype \n",
      "---  ------               --------------  ----- \n",
      " 0   clump_thickness      698 non-null    int64 \n",
      " 1   cell_size            698 non-null    int64 \n",
      " 2   cell_shape           698 non-null    int64 \n",
      " 3   marginal_adhesion    698 non-null    int64 \n",
      " 4   single_cell_ep_size  698 non-null    int64 \n",
      " 5   bare_nuclei          698 non-null    object\n",
      " 6   bland_chromatin      698 non-null    int64 \n",
      " 7   normal_nuclei        698 non-null    int64 \n",
      " 8   mitoses              698 non-null    int64 \n",
      " 9   class                698 non-null    int64 \n",
      "dtypes: int64(9), object(1)\n",
      "memory usage: 60.0+ KB\n"
     ]
    }
   ],
   "source": [
    "df.info()"
   ]
  },
  {
   "cell_type": "code",
   "execution_count": 9,
   "metadata": {},
   "outputs": [
    {
     "name": "stdout",
     "output_type": "stream",
     "text": [
      "<class 'pandas.core.frame.DataFrame'>\n",
      "Index: 698 entries, 1002945 to 897471\n",
      "Data columns (total 10 columns):\n",
      " #   Column               Non-Null Count  Dtype \n",
      "---  ------               --------------  ----- \n",
      " 0   clump_thickness      698 non-null    int64 \n",
      " 1   cell_size            698 non-null    int64 \n",
      " 2   cell_shape           698 non-null    int64 \n",
      " 3   marginal_adhesion    698 non-null    int64 \n",
      " 4   single_cell_ep_size  698 non-null    int64 \n",
      " 5   bare_nuclei          698 non-null    object\n",
      " 6   bland_chromatin      698 non-null    int64 \n",
      " 7   normal_nuclei        698 non-null    int64 \n",
      " 8   mitoses              698 non-null    int64 \n",
      " 9   class                698 non-null    int64 \n",
      "dtypes: int64(9), object(1)\n",
      "memory usage: 60.0+ KB\n"
     ]
    }
   ],
   "source": [
    "df.info()"
   ]
  },
  {
   "cell_type": "code",
   "execution_count": 10,
   "metadata": {},
   "outputs": [
    {
     "name": "stdout",
     "output_type": "stream",
     "text": [
      "clump_thickness\n",
      "1     145\n",
      "5     129\n",
      "3     108\n",
      "4      80\n",
      "10     69\n",
      "2      50\n",
      "8      46\n",
      "6      34\n",
      "7      23\n",
      "9      14\n",
      "Name: count, dtype: int64\n",
      "cell_size\n",
      "1     383\n",
      "10     67\n",
      "3      52\n",
      "2      45\n",
      "4      40\n",
      "5      30\n",
      "8      29\n",
      "6      27\n",
      "7      19\n",
      "9       6\n",
      "Name: count, dtype: int64\n",
      "cell_shape\n",
      "1     352\n",
      "2      59\n",
      "10     58\n",
      "3      56\n",
      "4      44\n",
      "5      34\n",
      "6      30\n",
      "7      30\n",
      "8      28\n",
      "9       7\n",
      "Name: count, dtype: int64\n",
      "marginal_adhesion\n",
      "1     406\n",
      "3      58\n",
      "2      58\n",
      "10     55\n",
      "4      33\n",
      "8      25\n",
      "5      23\n",
      "6      22\n",
      "7      13\n",
      "9       5\n",
      "Name: count, dtype: int64\n",
      "single_cell_ep_size\n",
      "2     385\n",
      "3      72\n",
      "4      48\n",
      "1      47\n",
      "6      41\n",
      "5      39\n",
      "10     31\n",
      "8      21\n",
      "7      12\n",
      "9       2\n",
      "Name: count, dtype: int64\n",
      "bare_nuclei\n",
      "1     401\n",
      "10    132\n",
      "2      30\n",
      "5      30\n",
      "3      28\n",
      "8      21\n",
      "4      19\n",
      "?      16\n",
      "9       9\n",
      "7       8\n",
      "6       4\n",
      "Name: count, dtype: int64\n",
      "bland_chromatin\n",
      "2     166\n",
      "3     164\n",
      "1     152\n",
      "7      73\n",
      "4      40\n",
      "5      34\n",
      "8      28\n",
      "10     20\n",
      "9      11\n",
      "6      10\n",
      "Name: count, dtype: int64\n",
      "normal_nuclei\n",
      "1     442\n",
      "10     61\n",
      "3      44\n",
      "2      36\n",
      "8      24\n",
      "6      22\n",
      "5      19\n",
      "4      18\n",
      "7      16\n",
      "9      16\n",
      "Name: count, dtype: int64\n",
      "mitoses\n",
      "1     578\n",
      "2      35\n",
      "3      33\n",
      "10     14\n",
      "4      12\n",
      "7       9\n",
      "8       8\n",
      "5       6\n",
      "6       3\n",
      "Name: count, dtype: int64\n",
      "class\n",
      "2    457\n",
      "4    241\n",
      "Name: count, dtype: int64\n"
     ]
    },
    {
     "data": {
      "text/plain": [
       "bare_nuclei\n",
       "1     401\n",
       "10    132\n",
       "2      30\n",
       "5      30\n",
       "3      28\n",
       "8      21\n",
       "4      19\n",
       "9       9\n",
       "7       8\n",
       "6       4\n",
       "Name: count, dtype: int64"
      ]
     },
     "execution_count": 10,
     "metadata": {},
     "output_type": "execute_result"
    }
   ],
   "source": [
    "cols = df.columns.tolist()\n",
    "for col in cols:\n",
    "    print(df[col].value_counts())\n",
    "# There is a string '?' in bare_nuclei, let's replace it with a Null value and the drop the rows containing those values\n",
    "df = df.replace('?', pd.NA).dropna()\n",
    "df['bare_nuclei'].isna().sum()\n",
    "df['bare_nuclei'].value_counts()"
   ]
  },
  {
   "cell_type": "code",
   "execution_count": 11,
   "metadata": {},
   "outputs": [
    {
     "data": {
      "text/html": [
       "<div>\n",
       "<style scoped>\n",
       "    .dataframe tbody tr th:only-of-type {\n",
       "        vertical-align: middle;\n",
       "    }\n",
       "\n",
       "    .dataframe tbody tr th {\n",
       "        vertical-align: top;\n",
       "    }\n",
       "\n",
       "    .dataframe thead th {\n",
       "        text-align: right;\n",
       "    }\n",
       "</style>\n",
       "<table border=\"1\" class=\"dataframe\">\n",
       "  <thead>\n",
       "    <tr style=\"text-align: right;\">\n",
       "      <th></th>\n",
       "      <th>clump_thickness</th>\n",
       "      <th>cell_size</th>\n",
       "      <th>cell_shape</th>\n",
       "      <th>marginal_adhesion</th>\n",
       "      <th>single_cell_ep_size</th>\n",
       "      <th>bare_nuclei</th>\n",
       "      <th>bland_chromatin</th>\n",
       "      <th>normal_nuclei</th>\n",
       "      <th>mitoses</th>\n",
       "      <th>class</th>\n",
       "    </tr>\n",
       "    <tr>\n",
       "      <th>id_number</th>\n",
       "      <th></th>\n",
       "      <th></th>\n",
       "      <th></th>\n",
       "      <th></th>\n",
       "      <th></th>\n",
       "      <th></th>\n",
       "      <th></th>\n",
       "      <th></th>\n",
       "      <th></th>\n",
       "      <th></th>\n",
       "    </tr>\n",
       "  </thead>\n",
       "  <tbody>\n",
       "    <tr>\n",
       "      <th>1002945</th>\n",
       "      <td>5</td>\n",
       "      <td>4</td>\n",
       "      <td>4</td>\n",
       "      <td>5</td>\n",
       "      <td>7</td>\n",
       "      <td>10</td>\n",
       "      <td>3</td>\n",
       "      <td>2</td>\n",
       "      <td>1</td>\n",
       "      <td>0</td>\n",
       "    </tr>\n",
       "    <tr>\n",
       "      <th>1015425</th>\n",
       "      <td>3</td>\n",
       "      <td>1</td>\n",
       "      <td>1</td>\n",
       "      <td>1</td>\n",
       "      <td>2</td>\n",
       "      <td>2</td>\n",
       "      <td>3</td>\n",
       "      <td>1</td>\n",
       "      <td>1</td>\n",
       "      <td>0</td>\n",
       "    </tr>\n",
       "    <tr>\n",
       "      <th>1016277</th>\n",
       "      <td>6</td>\n",
       "      <td>8</td>\n",
       "      <td>8</td>\n",
       "      <td>1</td>\n",
       "      <td>3</td>\n",
       "      <td>4</td>\n",
       "      <td>3</td>\n",
       "      <td>7</td>\n",
       "      <td>1</td>\n",
       "      <td>0</td>\n",
       "    </tr>\n",
       "    <tr>\n",
       "      <th>1017023</th>\n",
       "      <td>4</td>\n",
       "      <td>1</td>\n",
       "      <td>1</td>\n",
       "      <td>3</td>\n",
       "      <td>2</td>\n",
       "      <td>1</td>\n",
       "      <td>3</td>\n",
       "      <td>1</td>\n",
       "      <td>1</td>\n",
       "      <td>0</td>\n",
       "    </tr>\n",
       "    <tr>\n",
       "      <th>1017122</th>\n",
       "      <td>8</td>\n",
       "      <td>10</td>\n",
       "      <td>10</td>\n",
       "      <td>8</td>\n",
       "      <td>7</td>\n",
       "      <td>10</td>\n",
       "      <td>9</td>\n",
       "      <td>7</td>\n",
       "      <td>1</td>\n",
       "      <td>1</td>\n",
       "    </tr>\n",
       "    <tr>\n",
       "      <th>...</th>\n",
       "      <td>...</td>\n",
       "      <td>...</td>\n",
       "      <td>...</td>\n",
       "      <td>...</td>\n",
       "      <td>...</td>\n",
       "      <td>...</td>\n",
       "      <td>...</td>\n",
       "      <td>...</td>\n",
       "      <td>...</td>\n",
       "      <td>...</td>\n",
       "    </tr>\n",
       "    <tr>\n",
       "      <th>776715</th>\n",
       "      <td>3</td>\n",
       "      <td>1</td>\n",
       "      <td>1</td>\n",
       "      <td>1</td>\n",
       "      <td>3</td>\n",
       "      <td>2</td>\n",
       "      <td>1</td>\n",
       "      <td>1</td>\n",
       "      <td>1</td>\n",
       "      <td>0</td>\n",
       "    </tr>\n",
       "    <tr>\n",
       "      <th>841769</th>\n",
       "      <td>2</td>\n",
       "      <td>1</td>\n",
       "      <td>1</td>\n",
       "      <td>1</td>\n",
       "      <td>2</td>\n",
       "      <td>1</td>\n",
       "      <td>1</td>\n",
       "      <td>1</td>\n",
       "      <td>1</td>\n",
       "      <td>0</td>\n",
       "    </tr>\n",
       "    <tr>\n",
       "      <th>888820</th>\n",
       "      <td>5</td>\n",
       "      <td>10</td>\n",
       "      <td>10</td>\n",
       "      <td>3</td>\n",
       "      <td>7</td>\n",
       "      <td>3</td>\n",
       "      <td>8</td>\n",
       "      <td>10</td>\n",
       "      <td>2</td>\n",
       "      <td>1</td>\n",
       "    </tr>\n",
       "    <tr>\n",
       "      <th>897471</th>\n",
       "      <td>4</td>\n",
       "      <td>8</td>\n",
       "      <td>6</td>\n",
       "      <td>4</td>\n",
       "      <td>3</td>\n",
       "      <td>4</td>\n",
       "      <td>10</td>\n",
       "      <td>6</td>\n",
       "      <td>1</td>\n",
       "      <td>1</td>\n",
       "    </tr>\n",
       "    <tr>\n",
       "      <th>897471</th>\n",
       "      <td>4</td>\n",
       "      <td>8</td>\n",
       "      <td>8</td>\n",
       "      <td>5</td>\n",
       "      <td>4</td>\n",
       "      <td>5</td>\n",
       "      <td>10</td>\n",
       "      <td>4</td>\n",
       "      <td>1</td>\n",
       "      <td>1</td>\n",
       "    </tr>\n",
       "  </tbody>\n",
       "</table>\n",
       "<p>682 rows × 10 columns</p>\n",
       "</div>"
      ],
      "text/plain": [
       "           clump_thickness  cell_size  cell_shape  marginal_adhesion  \\\n",
       "id_number                                                              \n",
       "1002945                  5          4           4                  5   \n",
       "1015425                  3          1           1                  1   \n",
       "1016277                  6          8           8                  1   \n",
       "1017023                  4          1           1                  3   \n",
       "1017122                  8         10          10                  8   \n",
       "...                    ...        ...         ...                ...   \n",
       "776715                   3          1           1                  1   \n",
       "841769                   2          1           1                  1   \n",
       "888820                   5         10          10                  3   \n",
       "897471                   4          8           6                  4   \n",
       "897471                   4          8           8                  5   \n",
       "\n",
       "           single_cell_ep_size bare_nuclei  bland_chromatin  normal_nuclei  \\\n",
       "id_number                                                                    \n",
       "1002945                      7          10                3              2   \n",
       "1015425                      2           2                3              1   \n",
       "1016277                      3           4                3              7   \n",
       "1017023                      2           1                3              1   \n",
       "1017122                      7          10                9              7   \n",
       "...                        ...         ...              ...            ...   \n",
       "776715                       3           2                1              1   \n",
       "841769                       2           1                1              1   \n",
       "888820                       7           3                8             10   \n",
       "897471                       3           4               10              6   \n",
       "897471                       4           5               10              4   \n",
       "\n",
       "           mitoses  class  \n",
       "id_number                  \n",
       "1002945          1      0  \n",
       "1015425          1      0  \n",
       "1016277          1      0  \n",
       "1017023          1      0  \n",
       "1017122          1      1  \n",
       "...            ...    ...  \n",
       "776715           1      0  \n",
       "841769           1      0  \n",
       "888820           2      1  \n",
       "897471           1      1  \n",
       "897471           1      1  \n",
       "\n",
       "[682 rows x 10 columns]"
      ]
     },
     "execution_count": 11,
     "metadata": {},
     "output_type": "execute_result"
    }
   ],
   "source": [
    "df['class'] = df['class'].apply(lambda x : 1 if x == 4 else 0)\n",
    "df"
   ]
  },
  {
   "cell_type": "code",
   "execution_count": 12,
   "metadata": {},
   "outputs": [
    {
     "data": {
      "text/plain": [
       "<matplotlib.legend.Legend at 0x1f1ec7e07d0>"
      ]
     },
     "execution_count": 12,
     "metadata": {},
     "output_type": "execute_result"
    },
    {
     "data": {
      "image/png": "[encoded data removed]",
      "text/plain": [
       "<Figure size 640x480 with 1 Axes>"
      ]
     },
     "metadata": {},
     "output_type": "display_data"
    }
   ],
   "source": [
    "sns.barplot(data=df,x='cell_shape',y='cell_size',hue='class',palette='bright')\n",
    "plt.xlabel('cell_shape')\n",
    "plt.ylabel('cell_size')\n",
    "plt.legend()"
   ]
  },
  {
   "cell_type": "code",
   "execution_count": 13,
   "metadata": {},
   "outputs": [
    {
     "data": {
      "text/plain": [
       "<Axes: xlabel='cell_shape', ylabel='clump_thickness'>"
      ]
     },
     "execution_count": 13,
     "metadata": {},
     "output_type": "execute_result"
    },
    {
     "data": {
      "image/png": "[encoded data removed]",
      "text/plain": [
       "<Figure size 640x480 with 1 Axes>"
      ]
     },
     "metadata": {},
     "output_type": "display_data"
    }
   ],
   "source": [
    "sns.barplot(data=df,x='cell_shape', y='clump_thickness',hue='class')"
   ]
  },
  {
   "cell_type": "code",
   "execution_count": 15,
   "metadata": {},
   "outputs": [
    {
     "data": {
      "text/plain": [
       "<Axes: xlabel='clump_thickness', ylabel='marginal_adhesion'>"
      ]
     },
     "execution_count": 15,
     "metadata": {},
     "output_type": "execute_result"
    },
    {
     "data": {
      "image/png": "[encoded data removed]",
      "text/plain": [
       "<Figure size 640x480 with 1 Axes>"
      ]
     },
     "metadata": {},
     "output_type": "display_data"
    }
   ],
   "source": [
    " sns.barplot(data=df,x='clump_thickness',y='marginal_adhesion',hue='class')"
   ]
  },
  {
   "cell_type": "code",
   "execution_count": 16,
   "metadata": {},
   "outputs": [
    {
     "data": {
      "text/plain": [
       "<Axes: xlabel='bland_chromatin', ylabel='mitoses'>"
      ]
     },
     "execution_count": 16,
     "metadata": {},
     "output_type": "execute_result"
    },
    {
     "data": {
      "image/png": "[encoded data removed]",
      "text/plain": [
       "<Figure size 640x480 with 1 Axes>"
      ]
     },
     "metadata": {},
     "output_type": "display_data"
    }
   ],
   "source": [
    "sns.barplot(data=df,x='bland_chromatin',y='mitoses',hue='class')"
   ]
  },
  {
   "cell_type": "code",
   "execution_count": 19,
   "metadata": {},
   "outputs": [],
   "source": [
    "X = df.drop(columns='class',axis=1)\n",
    "y = df['class']\n",
    "X_train,X_test,y_train,y_test = train_test_split(X,y,test_size=0.20)"
   ]
  },
  {
   "cell_type": "code",
   "execution_count": 20,
   "metadata": {},
   "outputs": [],
   "source": [
    "rf = RandomForestClassifier(n_estimators=100)\n",
    "randomforest = rf.fit(X_train,y_train)\n",
    "predictions = rf.predict(X_test)"
   ]
  },
  {
   "cell_type": "code",
   "execution_count": 21,
   "metadata": {},
   "outputs": [
    {
     "data": {
      "image/png": "[encoded data removed]",
      "text/plain": [
       "<Figure size 640x480 with 2 Axes>"
      ]
     },
     "metadata": {},
     "output_type": "display_data"
    }
   ],
   "source": [
    "cm =confusion_matrix(y_test, predictions)\n",
    "sns.heatmap(cm,annot=True, cmap='viridis')\n",
    "plt.xlabel('Predicted')\n",
    "plt.ylabel('Actual')\n",
    "plt.show()"
   ]
  },
  {
   "cell_type": "code",
   "execution_count": 22,
   "metadata": {},
   "outputs": [],
   "source": [
    "kfold = KFold(n_splits=5, shuffle=True, random_state=42)"
   ]
  },
  {
   "cell_type": "code",
   "execution_count": 23,
   "metadata": {},
   "outputs": [
    {
     "name": "stdout",
     "output_type": "stream",
     "text": [
      "Average MAE score: 0.03370545298411336\n"
     ]
    }
   ],
   "source": [
    "cv_scores = []\n",
    "lg = LogisticRegression()\n",
    "# Perform cross-validation\n",
    "for train_index, test_index in kfold.split(X):\n",
    "    X_train, X_test = X.iloc[train_index], X.iloc[test_index]\n",
    "    y_train, y_test = y.iloc[train_index], y.iloc[test_index]\n",
    "    lg.fit(X_train,y_train)\n",
    "    y_pred = lg.predict(X_test)\n",
    "    mae = mean_absolute_error(y_test,y_pred)\n",
    "    cv_scores.append(mae)\n",
    "# Calculate the avarege MAE\n",
    "average_mae = np.mean(cv_scores)\n",
    "\n",
    "print(\"Average MAE score:\", average_mae)"
   ]
  },
  {
   "cell_type": "code",
   "execution_count": 24,
   "metadata": {},
   "outputs": [
    {
     "data": {
      "image/png": "[encoded data removed]",
      "text/plain": [
       "<Figure size 640x480 with 2 Axes>"
      ]
     },
     "metadata": {},
     "output_type": "display_data"
    }
   ],
   "source": [
    "cm_lg =confusion_matrix(y_test, y_pred)\n",
    "sns.heatmap(cm_lg,annot=True, cmap='Blues')\n",
    "plt.xlabel('Predicted')\n",
    "plt.ylabel('Actual')\n",
    "plt.show()\n"
   ]
  },
  {
   "cell_type": "code",
   "execution_count": null,
   "metadata": {},
   "outputs": [
    {
     "data": {
      "image/png": "[encoded data removed]",
      "text/plain": [
       "<Figure size 640x480 with 2 Axes>"
      ]
     },
     "metadata": {},
     "output_type": "display_data"
    },
    {
     "name": "stdout",
     "output_type": "stream",
     "text": [
      "Average MAE score for KNN: 0.026352511807642764\n"
     ]
    },
    {
     "data": {
      "image/png": "[encoded data removed]",
      "text/plain": [
       "<Figure size 640x480 with 2 Axes>"
      ]
     },
     "metadata": {},
     "output_type": "display_data"
    }
   ],
   "source": [
    "from sklearn.neighbors import KNeighborsClassifier\n",
    "\n",
    "X = df.drop(columns='class', axis=1)\n",
    "\n",
    "y = df['class']\n",
    "X_train, X_test, y_train, y_test = train_test_split(X, y, test_size=0.20)\n",
    "\n",
    "knn = KNeighborsClassifier(n_neighbors=5)  \n",
    "knn.fit(X_train, y_train)\n",
    "knn_predictions = knn.predict(X_test)\n",
    "\n",
    "knn_cm = confusion_matrix(y_test, knn_predictions)\n",
    "sns.heatmap(knn_cm, annot=True, cmap='Blues')\n",
    "plt.xlabel('Predicted')\n",
    "plt.ylabel('Actual')\n",
    "plt.title('KNN Confusion Matrix')\n",
    "plt.show()\n",
    "\n",
    "knn_cv_scores = []\n",
    "for train_index, test_index in kfold.split(X):\n",
    "    X_train, X_test = X.iloc[train_index], X.iloc[test_index]\n",
    "    y_train, y_test = y.iloc[train_index], y.iloc[test_index]\n",
    "    knn.fit(X_train, y_train)\n",
    "    y_pred = knn.predict(X_test)\n",
    "    knn_mae = mean_absolute_error(y_test, y_pred)\n",
    "    knn_cv_scores.append(knn_mae)\n",
    "\n",
    "average_knn_mae = np.mean(knn_cv_scores)\n",
    "print(\"Average MAE score for KNN:\", average_knn_mae)\n",
    "\n",
    "knn_cm_last = confusion_matrix(y_test, y_pred)\n",
    "sns.heatmap(knn_cm_last, annot=True, cmap='Blues')\n",
    "plt.xlabel('Predicted')\n",
    "plt.ylabel('Actual')\n",
    "plt.title('KNN Confusion Matrix (Last Fold)')\n",
    "plt.show()"
   ]
  }
 ],
 "metadata": {
  "kernelspec": {
   "display_name": "Python 3",
   "language": "python",
   "name": "python3"
  },
  "language_info": {
   "codemirror_mode": {
    "name": "ipython",
    "version": 3
   },
   "file_extension": ".py",
   "mimetype": "text/x-python",
   "name": "python",
   "nbconvert_exporter": "python",
   "pygments_lexer": "ipython3",
   "version": "3.11.4"
  }
 },
 "nbformat": 4,
 "nbformat_minor": 2
}
